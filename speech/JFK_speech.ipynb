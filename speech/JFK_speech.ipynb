{
 "cells": [
  {
   "cell_type": "markdown",
   "metadata": {
    "collapsed": true
   },
   "source": [
    "## Project Summary\n",
    "\n",
    "In this tutorial, we'll learn how to use the [Google Cloud Speech API](https://cloud.google.com/speech/) to transcribe an audio file. The trickiest part of this API is converting your audio data into the correct format, which we'll do using [FFmpeg](https://www.ffmpeg.org/).\n",
    "\n",
    "## Data\n",
    "\n",
    "[YouTube Audio Library](https://www.youtube.com/audiolibrary/music) has a number of public domain audio files. The audio file transcribed in this tutorial was downloaded from that library (by searching \"speech\" in the search box).\n",
    "\n",
    "**Audio longer than 1 minute must reside on Google Cloud Storage [[usage limit]](https://cloud.google.com/speech/limits).** Since most audio files would be longer than 1 minute, we'll skip the part where files could be transcribed locally and instead we'll learn how to transcribe files on Google Cloud Storage.\n",
    "\n",
    "## Requirements\n",
    "\n",
    "### I. Google Cloud Platform (GCP) credentials:\n",
    "   * If you haven't already, you may sign-up for the [free GCP trial credit](https://cloud.google.com/free/docs/frequently-asked-questions)\n",
    "   * [Set up your project](https://cloud.google.com/speech/docs/getting-started#set_up_your_project) on GCP and enable the Speech API\n",
    "\n",
    "### II. Spin-up a VM instance:\n",
    "\n",
    "Transcribing an audio file on Google Cloud Storage requires a VM instance. It's lengthy, but simple, to start an instance and install all the necessary packages on it!\n",
    "   1. [Create a VM instance](https://cloud.google.com/compute/docs/quickstart-linux#create_a_virtual_machine_instance)\n",
    "       * Select **Ubuntu** under 'Boot disk'\n",
    "       * '**Allow full access to all Cloud APIs**' under 'Access scopes'\n",
    "   2. [Connect to your VM instance](https://cloud.google.com/compute/docs/quickstart-linux#connect_to_your_instance)\n",
    "   \n",
    "### III. Install packages on your VM:\n",
    "   \n",
    "#### 1. Install FFmpeg:  \n",
    "`$ sudo apt-get install`\n",
    "\n",
    "#### 2. Install pip:\n",
    "```shell\n",
    "$ sudo apt-get install python-pip python-dev build-essential\n",
    "$ sudo pip install --upgrade pip\n",
    "```\n",
    "\n",
    "#### 3. Install the Speech API Python library:  \n",
    "`$ pip install google-cloud-speech==0.27.1`\n",
    "\n",
    "#### 4. Install [gcsfuse](https://github.com/GoogleCloudPlatform/gcsfuse/blob/master/docs/installing.md):\n",
    "```shell\n",
    "$ sudo apt-get install lsb-release\n",
    "$ export GCSFUSE_REPO=gcsfuse-`lsb_release -c -s`\n",
    "$ echo \"deb http://packages.cloud.google.com/apt $GCSFUSE_REPO main\" | sudo tee /etc/apt/sources.list.d/gcsfuse.list\n",
    "$ curl https://packages.cloud.google.com/apt/doc/apt-key.gpg | sudo apt-key add -\n",
    "$ sudo apt-get update\n",
    "$ sudo apt-get install gcsfuse\n",
    "```\n",
    "\n",
    "### IV. Set-up Storage Bucket\n"
   ]
  },
  {
   "cell_type": "markdown",
   "metadata": {},
   "source": [
    "## Format Audio File"
   ]
  },
  {
   "cell_type": "markdown",
   "metadata": {},
   "source": [
    "## Transcribe Audio File"
   ]
  },
  {
   "cell_type": "markdown",
   "metadata": {},
   "source": [
    "## Clean-up\n",
    "\n",
    "[Delete your VM instance](https://cloud.google.com/compute/docs/quickstart-linux#clean-up) to avoid incurring charges to your GCP account.\n",
    "\n",
    "## Reference\n",
    "\n",
    "1. [Speech API GitHub repo](https://github.com/GoogleCloudPlatform/python-docs-samples/tree/master/speech/cloud-client)\n",
    "\n",
    "2. [Intro to Audio Encoding](https://cloud.google.com/speech/docs/encoding)"
   ]
  }
 ],
 "metadata": {
  "kernelspec": {
   "display_name": "Python 2",
   "language": "python",
   "name": "python2"
  },
  "language_info": {
   "codemirror_mode": {
    "name": "ipython",
    "version": 2
   },
   "file_extension": ".py",
   "mimetype": "text/x-python",
   "name": "python",
   "nbconvert_exporter": "python",
   "pygments_lexer": "ipython2",
   "version": "2.7.13"
  }
 },
 "nbformat": 4,
 "nbformat_minor": 2
}
