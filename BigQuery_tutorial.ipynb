{
 "cells": [
  {
   "cell_type": "markdown",
   "metadata": {},
   "source": [
    "## BigQuery Data Analysis Tutorial\n",
    "\n",
    "In this tutorial, we'll do some exploratory data analysis using [BigQuery](https://cloud.google.com/bigquery/), a service offered by the Google Cloud Platform (GCP). If you haven't already, you may sign-up for the [free GCP trial credit](https://cloud.google.com/free/docs/frequently-asked-questions). [Before you begin](https://cloud.google.com/bigquery/quickstart-web-ui#before-you-begin), give this project any name you like and enable the BigQuery API. \n",
    "\n",
    "Optionally, you may also [set-up](https://cloud.google.com/datalab/docs/quickstarts) [Datalab](https://cloud.google.com/datalab/) to create a Jupyter notebook. To download your notebook, go to Notebook > Download in Datalab.\n",
    "\n",
    "We'll analyze BigQuery's public dataset on the NYC yellow taxi ride. All the queries below are in standard SQL."
   ]
  },
  {
   "cell_type": "markdown",
   "metadata": {},
   "source": [
    "### 1. What is the most common pick-up time?"
   ]
  },
  {
   "cell_type": "code",
   "execution_count": 18,
   "metadata": {
    "collapsed": false
   },
   "outputs": [],
   "source": [
    "%%bq query --name pickup_time\n",
    "  WITH mytable AS (\n",
    "  SELECT\n",
    "    EXTRACT(HOUR\n",
    "    FROM\n",
    "      pickup_datetime) AS hour\n",
    "  FROM\n",
    "    `nyc-tlc.yellow.trips`)\n",
    "SELECT\n",
    "  Hour,\n",
    "  COUNT(Hour) AS Count\n",
    "FROM\n",
    "  mytable\n",
    "GROUP BY\n",
    "  Hour\n",
    "ORDER BY\n",
    "  Count DESC"
   ]
  },
  {
   "cell_type": "markdown",
   "metadata": {},
   "source": [
    "Let's name this query *pickup_time* and reference it to create the chart below."
   ]
  },
  {
   "cell_type": "code",
   "execution_count": 20,
   "metadata": {
    "collapsed": false
   },
   "outputs": [
    {
     "data": {
      "text/html": [
       "\n",
       "    <div class=\"bqgc-container\">\n",
       "      \n",
       "      <div class=\"bqgc \" id=\"4_150119889390\">\n",
       "      </div>\n",
       "    </div>\n",
       "    <script>\n",
       "\n",
       "      require.config({\n",
       "        paths: {\n",
       "          d3: '//cdnjs.cloudflare.com/ajax/libs/d3/3.4.13/d3',\n",
       "          plotly: 'https://cdn.plot.ly/plotly-1.5.1.min.js?noext',\n",
       "          jquery: '//ajax.googleapis.com/ajax/libs/jquery/2.0.0/jquery.min'\n",
       "        },\n",
       "        map: {\n",
       "          '*': {\n",
       "            datalab: 'nbextensions/gcpdatalab'\n",
       "          }\n",
       "        },\n",
       "        shim: {\n",
       "          plotly: {\n",
       "            deps: ['d3', 'jquery'],\n",
       "            exports: 'plotly'\n",
       "          }\n",
       "        }\n",
       "      });\n",
       "\n",
       "      require(['datalab/charting',\n",
       "               'datalab/element!4_150119889390',\n",
       "               'base/js/events',\n",
       "               'datalab/style!/nbextensions/gcpdatalab/charting.css'\n",
       "              ],\n",
       "        function(charts, dom, events) {\n",
       "          charts.render(\n",
       "              'gcharts',\n",
       "              dom,\n",
       "              events,\n",
       "              'columns',\n",
       "              [],\n",
       "              {\"rows\": [{\"c\": [{\"v\": 19}, {\"v\": 69489572}]}, {\"c\": [{\"v\": 18}, {\"v\": 66744014}]}, {\"c\": [{\"v\": 20}, {\"v\": 65187372}]}, {\"c\": [{\"v\": 21}, {\"v\": 63598261}]}, {\"c\": [{\"v\": 22}, {\"v\": 61658872}]}, {\"c\": [{\"v\": 14}, {\"v\": 55877423}]}, {\"c\": [{\"v\": 17}, {\"v\": 55153837}]}, {\"c\": [{\"v\": 23}, {\"v\": 54934466}]}, {\"c\": [{\"v\": 12}, {\"v\": 54448465}]}, {\"c\": [{\"v\": 13}, {\"v\": 54065927}]}, {\"c\": [{\"v\": 15}, {\"v\": 53304284}]}, {\"c\": [{\"v\": 9}, {\"v\": 51763583}]}, {\"c\": [{\"v\": 11}, {\"v\": 51472641}]}, {\"c\": [{\"v\": 8}, {\"v\": 50236489}]}, {\"c\": [{\"v\": 10}, {\"v\": 49962106}]}, {\"c\": [{\"v\": 16}, {\"v\": 45865180}]}, {\"c\": [{\"v\": 0}, {\"v\": 43944800}]}, {\"c\": [{\"v\": 7}, {\"v\": 40051659}]}, {\"c\": [{\"v\": 1}, {\"v\": 32500319}]}, {\"c\": [{\"v\": 2}, {\"v\": 24243169}]}, {\"c\": [{\"v\": 6}, {\"v\": 22792805}]}, {\"c\": [{\"v\": 3}, {\"v\": 17732477}]}, {\"c\": [{\"v\": 4}, {\"v\": 12903691}]}, {\"c\": [{\"v\": 5}, {\"v\": 10848051}]}], \"cols\": [{\"type\": \"number\", \"id\": \"Hour\", \"label\": \"Hour\"}, {\"type\": \"number\", \"id\": \"Count\", \"label\": \"Count\"}]},\n",
       "              {},\n",
       "              {\"fields\": \"*\", \"source_index\": 0, \"name\": 0},\n",
       "              0,\n",
       "              24);\n",
       "          }\n",
       "        );\n",
       "    </script>\n",
       "  "
      ],
      "text/plain": [
       "<IPython.core.display.HTML object>"
      ]
     },
     "execution_count": 20,
     "metadata": {},
     "output_type": "execute_result"
    },
    {
     "data": {
      "image/png": "[encoded data removed]"
     },
     "metadata": {
      "source_id": "4_150119889390"
     },
     "output_type": "display_data"
    }
   ],
   "source": [
    "# Let's visualize the pick-up time distribution\n",
    "%chart columns --data pickup_time"
   ]
  },
  {
   "cell_type": "markdown",
   "metadata": {},
   "source": [
    "### 2. Give the vendor distribution."
   ]
  },
  {
   "cell_type": "code",
   "execution_count": 17,
   "metadata": {
    "collapsed": false
   },
   "outputs": [
    {
     "data": {
      "text/html": [
       "\n",
       "    <div class=\"bqtv\" id=\"7_150119876154\"><table><tr><th>vendor_id</th><th>count</th></tr><tr><td>VTS</td><td>554054305</td></tr><tr><td>CMT</td><td>540747212</td></tr><tr><td>DDS</td><td>13977946</td></tr></table></div>\n",
       "    <br />(rows: 3, time: 3.1s,     5GB processed, job: job_ZooyVeeF2fG62j6kNCvID0HiHeg)<br />\n",
       "    <script>\n",
       "\n",
       "      require.config({\n",
       "        paths: {\n",
       "          d3: '//cdnjs.cloudflare.com/ajax/libs/d3/3.4.13/d3',\n",
       "          plotly: 'https://cdn.plot.ly/plotly-1.5.1.min.js?noext',\n",
       "          jquery: '//ajax.googleapis.com/ajax/libs/jquery/2.0.0/jquery.min'\n",
       "        },\n",
       "        map: {\n",
       "          '*': {\n",
       "            datalab: 'nbextensions/gcpdatalab'\n",
       "          }\n",
       "        },\n",
       "        shim: {\n",
       "          plotly: {\n",
       "            deps: ['d3', 'jquery'],\n",
       "            exports: 'plotly'\n",
       "          }\n",
       "        }\n",
       "      });\n",
       "\n",
       "      require(['datalab/charting', 'datalab/element!7_150119876154', 'base/js/events',\n",
       "          'datalab/style!/nbextensions/gcpdatalab/charting.css'],\n",
       "        function(charts, dom, events) {\n",
       "          charts.render('gcharts', dom, events, 'table', [], {\"rows\": [{\"c\": [{\"v\": \"VTS\"}, {\"v\": 554054305}]}, {\"c\": [{\"v\": \"CMT\"}, {\"v\": 540747212}]}, {\"c\": [{\"v\": \"DDS\"}, {\"v\": 13977946}]}], \"cols\": [{\"type\": \"string\", \"id\": \"vendor_id\", \"label\": \"vendor_id\"}, {\"type\": \"number\", \"id\": \"count\", \"label\": \"count\"}]},\n",
       "            {\n",
       "              pageSize: 25,\n",
       "              cssClassNames:  {\n",
       "                tableRow: 'gchart-table-row',\n",
       "                headerRow: 'gchart-table-headerrow',\n",
       "                oddTableRow: 'gchart-table-oddrow',\n",
       "                selectedTableRow: 'gchart-table-selectedrow',\n",
       "                hoverTableRow: 'gchart-table-hoverrow',\n",
       "                tableCell: 'gchart-table-cell',\n",
       "                headerCell: 'gchart-table-headercell',\n",
       "                rowNumberCell: 'gchart-table-rownumcell'\n",
       "              }\n",
       "            },\n",
       "            {source_index: 6, fields: 'vendor_id,count'},\n",
       "            0,\n",
       "            3);\n",
       "        }\n",
       "      );\n",
       "    </script>\n",
       "  "
      ],
      "text/plain": [
       "QueryResultsTable job_ZooyVeeF2fG62j6kNCvID0HiHeg"
      ]
     },
     "execution_count": 17,
     "metadata": {},
     "output_type": "execute_result"
    }
   ],
   "source": [
    "%%bq query\n",
    "SELECT\n",
    "  vendor_id,\n",
    "  COUNT(vendor_id) AS count\n",
    "FROM\n",
    "  `nyc-tlc.yellow.trips`\n",
    "GROUP BY\n",
    "  vendor_id\n",
    "ORDER BY\n",
    "  Count DESC"
   ]
  },
  {
   "cell_type": "markdown",
   "metadata": {},
   "source": [
    "### 3. Provide summary statistics on trip distance."
   ]
  },
  {
   "cell_type": "code",
   "execution_count": 9,
   "metadata": {
    "collapsed": false
   },
   "outputs": [
    {
     "data": {
      "text/html": [
       "\n",
       "    <div class=\"bqtv\" id=\"5_150119432716\"><table><tr><th>min</th><th>avg</th><th>max</th><th>stdev</th></tr><tr><td>-40840124.4</td><td>5.10838742509</td><td>59016609.3</td><td>5114.54193218</td></tr></table></div>\n",
       "    <br />(rows: 1, time: 2.6s,     8GB processed, job: job_mqvKIQebL_X6xlzxrosBkkWyDbk)<br />\n",
       "    <script>\n",
       "\n",
       "      require.config({\n",
       "        paths: {\n",
       "          d3: '//cdnjs.cloudflare.com/ajax/libs/d3/3.4.13/d3',\n",
       "          plotly: 'https://cdn.plot.ly/plotly-1.5.1.min.js?noext',\n",
       "          jquery: '//ajax.googleapis.com/ajax/libs/jquery/2.0.0/jquery.min'\n",
       "        },\n",
       "        map: {\n",
       "          '*': {\n",
       "            datalab: 'nbextensions/gcpdatalab'\n",
       "          }\n",
       "        },\n",
       "        shim: {\n",
       "          plotly: {\n",
       "            deps: ['d3', 'jquery'],\n",
       "            exports: 'plotly'\n",
       "          }\n",
       "        }\n",
       "      });\n",
       "\n",
       "      require(['datalab/charting', 'datalab/element!5_150119432716', 'base/js/events',\n",
       "          'datalab/style!/nbextensions/gcpdatalab/charting.css'],\n",
       "        function(charts, dom, events) {\n",
       "          charts.render('gcharts', dom, events, 'table', [], {\"rows\": [{\"c\": [{\"v\": -40840124.4}, {\"v\": 5.108387425094295}, {\"v\": 59016609.3}, {\"v\": 5114.541932178157}]}], \"cols\": [{\"type\": \"number\", \"id\": \"min\", \"label\": \"min\"}, {\"type\": \"number\", \"id\": \"avg\", \"label\": \"avg\"}, {\"type\": \"number\", \"id\": \"max\", \"label\": \"max\"}, {\"type\": \"number\", \"id\": \"stdev\", \"label\": \"stdev\"}]},\n",
       "            {\n",
       "              pageSize: 25,\n",
       "              cssClassNames:  {\n",
       "                tableRow: 'gchart-table-row',\n",
       "                headerRow: 'gchart-table-headerrow',\n",
       "                oddTableRow: 'gchart-table-oddrow',\n",
       "                selectedTableRow: 'gchart-table-selectedrow',\n",
       "                hoverTableRow: 'gchart-table-hoverrow',\n",
       "                tableCell: 'gchart-table-cell',\n",
       "                headerCell: 'gchart-table-headercell',\n",
       "                rowNumberCell: 'gchart-table-rownumcell'\n",
       "              }\n",
       "            },\n",
       "            {source_index: 4, fields: 'min,avg,max,stdev'},\n",
       "            0,\n",
       "            1);\n",
       "        }\n",
       "      );\n",
       "    </script>\n",
       "  "
      ],
      "text/plain": [
       "QueryResultsTable job_mqvKIQebL_X6xlzxrosBkkWyDbk"
      ]
     },
     "execution_count": 9,
     "metadata": {},
     "output_type": "execute_result"
    }
   ],
   "source": [
    "%%bq query\n",
    "SELECT\n",
    "  MIN(trip_distance) AS min,\n",
    "  AVG(trip_distance) AS avg,\n",
    "  MAX(trip_distance) AS max,\n",
    "  STDDEV(trip_distance) AS std_dev\n",
    "FROM\n",
    "  `nyc-tlc.yellow.trips`"
   ]
  },
  {
   "cell_type": "markdown",
   "metadata": {},
   "source": [
    "## Clean-up\n",
    "\n",
    "To avoid incurring charges to your GCP account, don't forget to [delete your Datalab VM instance](https://cloud.google.com/datalab/docs/quickstarts#clean-up)."
   ]
  },
  {
   "cell_type": "markdown",
   "metadata": {},
   "source": [
    "## Reference\n",
    "1. [BigQuery standard SQL query list](https://cloud.google.com/bigquery/docs/reference/standard-sql/functions-and-operators)\n",
    "2. [Datalab command list](http://googledatalab.github.io/pydatalab/google.datalab%20Commands.html)\n",
    "3. [How to integrate BigQuery with Datalab and Pandas?](https://cloud.google.com/bigquery/docs/visualize-datalab)"
   ]
  }
 ],
 "metadata": {
  "kernelspec": {
   "display_name": "Python 2",
   "language": "python",
   "name": "python2"
  },
  "language_info": {
   "codemirror_mode": {
    "name": "ipython",
    "version": 2
   },
   "file_extension": ".py",
   "mimetype": "text/x-python",
   "name": "python",
   "nbconvert_exporter": "python",
   "pygments_lexer": "ipython2",
   "version": "2.7.9"
  }
 },
 "nbformat": 4,
 "nbformat_minor": 2
}
